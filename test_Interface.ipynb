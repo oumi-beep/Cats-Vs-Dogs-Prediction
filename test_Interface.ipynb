{
 "cells": [
  {
   "cell_type": "markdown",
   "metadata": {},
   "source": [
    "## KNN Model Summary\n",
    "\n",
    "### KNN Doesn’t Build a Traditional Model\n",
    "- KNN is an **instance-based algorithm** that memorizes the dataset instead of learning parameters.\n",
    "- During prediction, it finds the **k-nearest neighbors** based on distance calculations.\n",
    "\n",
    "### We Save `knn_model.pkl`\n",
    "- The saved file contains **training data (`X_train`, `y_train`)** and hyperparameters (`n_neighbors`, `metric`).\n",
    "- Reloading it restores the stored dataset, not a trained model with learned parameters.\n",
    "\n",
    "### Key Limitations\n",
    "- **Slow predictions** for large datasets since it searches through all stored examples.\n",
    "- **High memory usage** as the dataset size grows.\n",
    "- **No feature learning**, unlike deep learning models.\n",
    "\n",
    "### Why Our Approach Works\n",
    "- Extracts features from images.\n",
    "- Uses KNN to find similar examples in the dataset.\n",
    "- Effective for small datasets but inefficient for large-scale applications.\n",
    "\n",
    "### How the model `knn_model.pkl` work\n",
    "Extract Features → Train KNN → Save KNN → Reload KNN → Predict ✅\n",
    "\n",
    "- extract_features() converts images into numerical vectors.\n",
    "\n",
    "- KNN searches for similar vectors in the stored dataset.\n",
    "\n"
   ]
  },
  {
   "cell_type": "code",
   "execution_count": 1,
   "metadata": {},
   "outputs": [],
   "source": [
    "import gradio as gr\n",
    "from PIL import Image\n",
    "import os\n",
    "import numpy as np\n",
    "import joblib\n",
    "from tensorflow.keras.preprocessing import image "
   ]
  },
  {
   "cell_type": "code",
   "execution_count": 2,
   "metadata": {},
   "outputs": [
    {
     "name": "stderr",
     "output_type": "stream",
     "text": [
      "c:\\Users\\34602\\anaconda3\\Lib\\site-packages\\sklearn\\base.py:376: InconsistentVersionWarning: Trying to unpickle estimator KNeighborsClassifier from version 1.2.2 when using version 1.4.2. This might lead to breaking code or invalid results. Use at your own risk. For more info please refer to:\n",
      "https://scikit-learn.org/stable/model_persistence.html#security-maintainability-limitations\n",
      "  warnings.warn(\n",
      "c:\\Users\\34602\\anaconda3\\Lib\\site-packages\\gradio\\interface.py:399: UserWarning: The `allow_flagging` parameter in `Interface` is deprecated.Use `flagging_mode` instead.\n",
      "  warnings.warn(\n"
     ]
    },
    {
     "name": "stdout",
     "output_type": "stream",
     "text": [
      "* Running on local URL:  http://127.0.0.1:7862\n",
      "\n",
      "Could not create share link. Please check your internet connection or our status page: https://status.gradio.app.\n"
     ]
    },
    {
     "data": {
      "text/html": [
       "<div><iframe src=\"http://127.0.0.1:7862/\" width=\"100%\" height=\"500\" allow=\"autoplay; camera; microphone; clipboard-read; clipboard-write;\" frameborder=\"0\" allowfullscreen></iframe></div>"
      ],
      "text/plain": [
       "<IPython.core.display.HTML object>"
      ]
     },
     "metadata": {},
     "output_type": "display_data"
    },
    {
     "data": {
      "text/plain": []
     },
     "execution_count": 2,
     "metadata": {},
     "output_type": "execute_result"
    }
   ],
   "source": [
    "\n",
    "# Function to extract features by flattening images\n",
    "def extract_features(file_paths, target_size=(150, 150)):\n",
    "    features = []\n",
    "    for file in file_paths:\n",
    "        try:\n",
    "            img = image.load_img(file, target_size=target_size)  # Load image\n",
    "            img_array = image.img_to_array(img) / 255.0  \n",
    "            features.append(img_array.flatten()) \n",
    "        except Exception as e:\n",
    "            print(f\"Error loading image {file}: {e}\")  # Debugging output\n",
    "    return np.array(features)\n",
    "\n",
    "# Load your pre-trained KNN model (ensure correct path)\n",
    "try:\n",
    "    knn = joblib.load('knn_model.pkl')\n",
    "except FileNotFoundError:\n",
    "    raise Exception(\"Model file 'knn_model.pkl' not found in current directory!\")\n",
    "\n",
    "def classify_image(image):\n",
    "    try:\n",
    "        # Convert Gradio image input to PIL Image\n",
    "        if isinstance(image, str):\n",
    "            img = Image.open(image)\n",
    "        else:\n",
    "            img = Image.fromarray(image.astype('uint8'), 'RGB')\n",
    "        \n",
    "        # Save to temporary path\n",
    "        temp_dir = \"temp/\"\n",
    "        os.makedirs(temp_dir, exist_ok=True)\n",
    "        temp_path = os.path.join(temp_dir, \"temp_image.jpg\")\n",
    "        img.save(temp_path)\n",
    "        \n",
    "        # Extract features and predict (ensure extract_features is defined)\n",
    "        features = extract_features([temp_path])  # You need to define this function\n",
    "        prediction = knn.predict(features)\n",
    "        \n",
    "        result = \"Dog 🐶\" if prediction[0] == 1 else \"Cat 🐱\"\n",
    "        return f\"Prediction: {result}\"\n",
    "        \n",
    "    except Exception as e:\n",
    "        return f\"Error: {str(e)}\"\n",
    "\n",
    "# Create Gradio interface\n",
    "interface = gr.Interface(\n",
    "    fn=classify_image,\n",
    "    inputs=gr.Image(label=\"Upload Pet Image\", type=\"filepath\"),\n",
    "    outputs=gr.Text(label=\"Prediction\"),\n",
    "    title=\"🐱 Dog vs Cat Classifier 🐶\",\n",
    "    description=\"Upload an image of a dog or cat to see the classification!\",\n",
    "    allow_flagging=\"never\"\n",
    ")\n",
    "\n",
    "# Launch the interface\n",
    "interface.launch(share=True)  "
   ]
  },
  {
   "cell_type": "code",
   "execution_count": null,
   "metadata": {},
   "outputs": [],
   "source": []
  }
 ],
 "metadata": {
  "kernelspec": {
   "display_name": "base",
   "language": "python",
   "name": "python3"
  },
  "language_info": {
   "codemirror_mode": {
    "name": "ipython",
    "version": 3
   },
   "file_extension": ".py",
   "mimetype": "text/x-python",
   "name": "python",
   "nbconvert_exporter": "python",
   "pygments_lexer": "ipython3",
   "version": "3.12.4"
  }
 },
 "nbformat": 4,
 "nbformat_minor": 2
}
